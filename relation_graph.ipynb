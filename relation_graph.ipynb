{
 "cells": [
  {
   "cell_type": "code",
   "execution_count": 27,
   "id": "48862f84",
   "metadata": {},
   "outputs": [],
   "source": [
    "import networkx as nx\n",
    "import matplotlib.pyplot as plt\n",
    "import matplotlib.image as mpimg\n",
    "from io import StringIO\n",
    "from IPython.display import SVG\n",
    "import pydot"
   ]
  },
  {
   "cell_type": "code",
   "execution_count": 38,
   "id": "97a45637",
   "metadata": {},
   "outputs": [],
   "source": [
    "def get_relations(text):\n",
    "    # Given multiple (A,B,relation_type) tuples, extract set of nodes and connections\n",
    "    \n",
    "    # Extract tuples from text\n",
    "    lines = text.splitlines()\n",
    "    relations = []\n",
    "    for line in lines:\n",
    "        first_alpha = 0\n",
    "        for idx in range(len(line)):\n",
    "            if line[idx].isalpha():\n",
    "                first_alpha = idx\n",
    "                break\n",
    "        line = line[first_alpha:]\n",
    "        relation = line.split(\", \")\n",
    "        for idx in range(len(relation)):\n",
    "            relation[idx] = relation[idx].strip()\n",
    "        relations.append(relation)\n",
    "#     print(relations)\n",
    "    \n",
    "    # get set of. nodes\n",
    "    nodes = {}\n",
    "    for relation in relations:\n",
    "        for concept in relation[:2]:\n",
    "            nodes[concept] = pydot.Node(concept)\n",
    "\n",
    "    # create nodes and mapping from concept to node\n",
    "    dot_graph = pydot.Dot(graph_type='digraph')\n",
    "\n",
    "    for key in nodes:\n",
    "        dot_graph.add_node(nodes[key])\n",
    "    \n",
    "    # add edges\n",
    "    for relation in relations:\n",
    "        edge = pydot.Edge(nodes[relation[0]],relation[1])\n",
    "        edge.set_label(relation[2])\n",
    "        dot_graph.add_edge(edge)\n",
    "        \n",
    "    dot_graph.write_svg('big_data.svg')\n",
    "    dot_graph.write_ps2('big_data.ps2')\n",
    "    SVG('big_data.svg')\n",
    "    \n",
    "    "
   ]
  },
  {
   "cell_type": "code",
   "execution_count": null,
   "id": "70418a67",
   "metadata": {},
   "outputs": [],
   "source": []
  },
  {
   "cell_type": "code",
   "execution_count": 39,
   "id": "07122144",
   "metadata": {},
   "outputs": [
    {
     "name": "stdout",
     "output_type": "stream",
     "text": [
      "yay Income, Education, Correlation\n",
      "yay Education, Network, Correlation\n",
      "yay Network, In-Demand Skills, Correlation\n",
      "yay In-Demand Skills, Income, Correlation\n",
      "yay Income, Security, Correlation\n",
      "yay Security, Health Risks, Inverse Correlation\n",
      "yay Security, Economic Risks, Inverse Correlation\n",
      "yay Security, Ability to Pay Off Debt, Correlation\n",
      "yay Ability to Pay Off Debt, Income, Correlation\n"
     ]
    }
   ],
   "source": [
    "text = \"Fioravanti, Bologna, Birthplace\\nFioravanti, Cosimo de' Medici the Elder, Worked for\\nFioravanti, Milan, Worked in\\nFioravanti, Palazzo Bentivoglio, Created Plans for\\nFioravanti, Matthias Corvinus, Worked for\\nFioravanti, Ivan III, Invited by\\nFioravanti, Dormition Cathedral, Built\\nFioravanti, Italy, Asked to Return to\\nFioravanti, Novgorod, Campaigned Against\\nFioravanti, Kazan, Campaigned Against\\nFioravanti, Tver, Campaigned Against\"\n",
    "text2 = \"Income, Education, Correlation\\nEducation, Network, Correlation\\nNetwork, In-Demand Skills, Correlation\\nIn-Demand Skills, Income, Correlation\\nIncome, Security, Correlation\\nSecurity, Health Risks, Inverse Correlation\\nSecurity, Economic Risks, Inverse Correlation\\nIncome, Debt, Inverse Correlation\"\n",
    "text3 = \"Face Service, Public Load Balancer, Connected\\n Face Service, Fraas Service, Connected\\n Fraas Service, Internal Load Balancer, Connected\\n Face Service, Auto Scaling Group, Belongs To\\n Fraas Service, Auto Scaling Group, Belongs To\\n Face Service, GPUs, Uses\\n Fraas Service, GPUs, Uses\\n Public Load Balancer, Public IP Address, Has\\n Internal Load Balancer, Internal IP Address, Has\"\n",
    "text4 = \"1. Income, Education, Correlation\\n2. Education, Network, Correlation\\n3. Network, In-Demand Skills, Correlation\\n4. In-Demand Skills, Income, Correlation\\n5. Income, Security, Correlation\\n6. Security, Health Risks, Inverse Correlation\\n7. Security, Economic Risks, Inverse Correlation\\n8. Security, Ability to Pay Off Debt, Correlation\\n9. Ability to Pay Off Debt, Income, Correlation\"\n",
    "get_relations(text4)"
   ]
  },
  {
   "cell_type": "code",
   "execution_count": 11,
   "id": "e4731e17",
   "metadata": {},
   "outputs": [
    {
     "data": {
      "text/plain": [
       "{1, 2, 3}"
      ]
     },
     "execution_count": 11,
     "metadata": {},
     "output_type": "execute_result"
    }
   ],
   "source": [
    "l = [1,2,3,1,2,3]\n",
    "set(l)\n"
   ]
  },
  {
   "cell_type": "code",
   "execution_count": null,
   "id": "5a6d5b2b",
   "metadata": {},
   "outputs": [],
   "source": []
  }
 ],
 "metadata": {
  "kernelspec": {
   "display_name": "Python 3",
   "language": "python",
   "name": "python3"
  },
  "language_info": {
   "codemirror_mode": {
    "name": "ipython",
    "version": 3
   },
   "file_extension": ".py",
   "mimetype": "text/x-python",
   "name": "python",
   "nbconvert_exporter": "python",
   "pygments_lexer": "ipython3",
   "version": "3.8.8"
  }
 },
 "nbformat": 4,
 "nbformat_minor": 5
}
